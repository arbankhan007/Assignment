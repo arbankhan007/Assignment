{
 "cells": [
  {
   "cell_type": "markdown",
   "metadata": {},
   "source": [
    "Write a function to compute 5/0 and use try/except to catch the exceptions."
   ]
  },
  {
   "cell_type": "code",
   "execution_count": 10,
   "metadata": {},
   "outputs": [
    {
     "name": "stdout",
     "output_type": "stream",
     "text": [
      "enter a number6/0\n",
      "error!\n",
      "enter a number9\n",
      "thank you\n"
     ]
    }
   ],
   "source": [
    "def com():\n",
    "    while True:\n",
    "        try:\n",
    "            n=int(input('enter a number'))\n",
    "        \n",
    "        except :\n",
    "            print('error!')\n",
    "            continue\n",
    "        else:\n",
    "            print('thank you')\n",
    "            break\n",
    "        \n",
    "com()    "
   ]
  },
  {
   "cell_type": "markdown",
   "metadata": {},
   "source": [
    "Implement a Python program to generate all sentences where subject is in [\"Americans\",\n",
    "\"Indians\"] and verb is in [\"Play\", \"watch\"] and the object is in [\"Baseball\",\"cricket\"]."
   ]
  },
  {
   "cell_type": "code",
   "execution_count": 17,
   "metadata": {},
   "outputs": [
    {
     "name": "stdout",
     "output_type": "stream",
     "text": [
      "Americans play Baseball.\n",
      "\n",
      "Americans play Cricket.\n",
      "\n",
      "Americans watch Baseball.\n",
      "\n",
      "Americans watch Cricket.\n",
      "\n",
      "Indians play Baseball.\n",
      "\n",
      "Indians play Cricket.\n",
      "\n",
      "Indians watch Baseball.\n",
      "\n",
      "Indians watch Cricket.\n",
      "\n"
     ]
    }
   ],
   "source": [
    "subjects=[\"Americans\",\"Indians\"]\n",
    "verbs=[\"play\",\"watch\"]\n",
    "objects=[\"Baseball\",\"Cricket\"]\n",
    "l=[i+\" \"+j+\" \"+k+\".\" for i in subjects for j in verbs for k in objects ]\n",
    "for line in l:\n",
    "    print(line)\n",
    "    print()"
   ]
  },
  {
   "cell_type": "code",
   "execution_count": null,
   "metadata": {},
   "outputs": [],
   "source": []
  }
 ],
 "metadata": {
  "kernelspec": {
   "display_name": "Python 3",
   "language": "python",
   "name": "python3"
  },
  "language_info": {
   "codemirror_mode": {
    "name": "ipython",
    "version": 3
   },
   "file_extension": ".py",
   "mimetype": "text/x-python",
   "name": "python",
   "nbconvert_exporter": "python",
   "pygments_lexer": "ipython3",
   "version": "3.7.6"
  }
 },
 "nbformat": 4,
 "nbformat_minor": 4
}
